{
 "cells": [
  {
   "cell_type": "markdown",
   "id": "extensive-manitoba",
   "metadata": {},
   "source": [
    "# 1. 创建第一个app"
   ]
  },
  {
   "cell_type": "code",
   "execution_count": 8,
   "id": "balanced-projection",
   "metadata": {},
   "outputs": [],
   "source": [
    "#!/usr/bin/env python3\n",
    "# -*- coding: utf-8 -*-\n",
    "\n",
    "from tkinter import *\n",
    "\n",
    "window = Tk()\n",
    "window.title(\"Hello World\")\n",
    "window.mainloop()"
   ]
  },
  {
   "cell_type": "markdown",
   "id": "dental-restoration",
   "metadata": {},
   "source": [
    "# 2. 创建标签小部件"
   ]
  },
  {
   "cell_type": "code",
   "execution_count": 20,
   "id": "unusual-island",
   "metadata": {},
   "outputs": [],
   "source": [
    "#!/usr/bin/env python3\n",
    "# -*- coding: utf-8 -*-\n",
    "\n",
    "from tkinter import *\n",
    "\n",
    "window = Tk()\n",
    "window.title(\"Hello World\")\n",
    "\n",
    "lb1 = Label(window, text=\"Hello\", font=(\"Arial Bold\", 50))\n",
    "lb1.grid(column=0, row=0)\n",
    "\n",
    "window.geometry('800x600')\n",
    "\n",
    "def clicked():\n",
    "    lb1.configure(text=\"Button was clicked !!\")\n",
    "\n",
    "btn = Button(window, text=\"Click Me\", bg=\"orange\", fg=\"red\", command=clicked)\n",
    "btn.grid(column=1, row=0)\n",
    "\n",
    "window.mainloop()"
   ]
  },
  {
   "cell_type": "markdown",
   "id": "duplicate-ability",
   "metadata": {},
   "source": [
    "* Label 可通过font参数设置字体样式及大小，可以将font参数传递给任何窗口小部件以更改其字体。\n",
    "* 可通过window.geometry来设置默认窗口大小。\n",
    "* 使用Button方法创建按钮对象，可通过传参bg设置背景色，fg设置前景色。\n",
    "* Button对象可通过command传参来绑定Callback。"
   ]
  },
  {
   "cell_type": "markdown",
   "id": "comfortable-rings",
   "metadata": {},
   "source": [
    "# 3. 文本框(Entry class)"
   ]
  },
  {
   "cell_type": "code",
   "execution_count": 26,
   "id": "whole-efficiency",
   "metadata": {},
   "outputs": [],
   "source": [
    "#!/usr/bin/env python3\n",
    "# -*- coding: utf-8 -*-\n",
    "\n",
    "from tkinter import *\n",
    "\n",
    "window = Tk()\n",
    "window.title(\"Hello World\")\n",
    "\n",
    "lb1 = Label(window, text=\"Hello\", font=(\"Arial Bold\", 50))\n",
    "lb1.grid(column=0, row=0)\n",
    "\n",
    "window.geometry('800x600')\n",
    "\n",
    "txt = Entry(window, width=10) #,state='disable')\n",
    "txt.grid(column=1, row=0)\n",
    "txt.focus()\n",
    "\n",
    "def clicked():\n",
    "    res = \"Welcome to \" + txt.get()\n",
    "    lb1.configure(text=res)\n",
    "\n",
    "btn = Button(window, text=\"Click Me\", bg=\"orange\", fg=\"red\", command=clicked)\n",
    "btn.grid(column=2, row=0)\n",
    "\n",
    "window.mainloop()"
   ]
  },
  {
   "cell_type": "markdown",
   "id": "preceding-bouquet",
   "metadata": {},
   "source": [
    "* 各个小组件之间是可以相互覆盖的，所以column和row不能同时相等。\n",
    "* txt的focus方法可以使窗口在打开后聚焦在输入框。\n",
    "* 可通过Entry的传参state来指示当前窗口是否为输入状态，默认是。\n"
   ]
  },
  {
   "cell_type": "markdown",
   "id": "demographic-immigration",
   "metadata": {},
   "source": [
    "# 4. 组合框小组件(Combobox)"
   ]
  },
  {
   "cell_type": "code",
   "execution_count": 42,
   "id": "norwegian-invite",
   "metadata": {},
   "outputs": [],
   "source": [
    "#!/usr/bin/env python3\n",
    "# -*- coding: utf-8 -*-\n",
    "\n",
    "from tkinter import *\n",
    "from tkinter.ttk import *\n",
    "\n",
    "window = Tk()\n",
    "window.title(\"Hello World\")\n",
    "\n",
    "lb1 = Label(window, text=\"Hello\", font=(\"Arial Bold\", 50))\n",
    "lb1.grid(column=0, row=0)\n",
    "\n",
    "window.geometry('800x600')\n",
    "\n",
    "combo = Combobox(window)\n",
    "combo['value'] = (1, 2, 3, 4, 5, \"Text\")\n",
    "combo.current(1)\n",
    "combo.grid(column=1, row=0)\n",
    "\n",
    "def clicked():\n",
    "    res = \"Welcome to \" + combo.get()\n",
    "    lb1.configure(text=res)\n",
    "\n",
    "btn = Button(window, text=\"Click Me\", command=clicked)\n",
    "btn.grid(column=2, row=0)\n",
    "\n",
    "window.mainloop()"
   ]
  },
  {
   "cell_type": "markdown",
   "id": "arbitrary-quilt",
   "metadata": {},
   "source": [
    "* 可通过Combobox对象的get()方法来获取当前选择的数值"
   ]
  },
  {
   "cell_type": "markdown",
   "id": "smaller-hometown",
   "metadata": {},
   "source": [
    "# 5. 复选框 (checkbox)"
   ]
  },
  {
   "cell_type": "code",
   "execution_count": 50,
   "id": "geographic-james",
   "metadata": {},
   "outputs": [],
   "source": [
    "#!/usr/bin/env python3\n",
    "# -*- coding: utf-8 -*-\n",
    "\n",
    "from tkinter import *\n",
    "from tkinter.ttk import *\n",
    "\n",
    "window = Tk()\n",
    "window.title(\"Hello World\")\n",
    "\n",
    "lb1 = Label(window, text=\"Hello\", font=(\"Arial Bold\", 50))\n",
    "lb1.grid(column=0, row=0)\n",
    "\n",
    "window.geometry('800x600')\n",
    "\n",
    "chk_state = BooleanVar()\n",
    "chk_state.set(True)\n",
    "chk = Checkbutton(window, text='Choose', var=chk_state)\n",
    "chk.grid(column=1, row=0)\n",
    "\n",
    "def clicked():\n",
    "    res = \"Welcome to \" + str(chk_state.get())\n",
    "    lb1.configure(text=res)\n",
    "\n",
    "btn = Button(window, text=\"Click Me\", command=clicked)\n",
    "btn.grid(column=2, row=0)\n",
    "\n",
    "window.mainloop()"
   ]
  },
  {
   "cell_type": "markdown",
   "id": "standard-isaac",
   "metadata": {},
   "source": [
    "注意：BooleanVar类型不是Python变量，而是Tkinter变量。"
   ]
  },
  {
   "cell_type": "markdown",
   "id": "silver-pierre",
   "metadata": {},
   "source": [
    "# 6. 单选按钮(RadioButton)"
   ]
  },
  {
   "cell_type": "code",
   "execution_count": 57,
   "id": "limiting-snapshot",
   "metadata": {},
   "outputs": [
    {
     "name": "stdout",
     "output_type": "stream",
     "text": [
      "1\n",
      "2\n",
      "3\n"
     ]
    }
   ],
   "source": [
    "#!/usr/bin/env python3\n",
    "# -*- coding: utf-8 -*-\n",
    "\n",
    "from tkinter import *\n",
    "from tkinter.ttk import *\n",
    "\n",
    "window = Tk()\n",
    "window.title(\"Hello World\")\n",
    "\n",
    "window.geometry('800x600')\n",
    "\n",
    "selected = IntVar()\n",
    "\n",
    "def clicked():\n",
    "    print(selected.get())\n",
    "\n",
    "rad1 = Radiobutton(window, text='First', value=1, command=clicked, variable=selected)\n",
    "rad2 = Radiobutton(window, text='Second', value=2, command=clicked, variable=selected)\n",
    "rad3 = Radiobutton(window, text='Third', value=3, command=clicked, variable=selected)\n",
    "rad1.grid(column=0, row=0)\n",
    "rad2.grid(column=1, row=0)\n",
    "rad3.grid(column=2, row=0)\n",
    "\n",
    "window.mainloop()"
   ]
  },
  {
   "cell_type": "markdown",
   "id": "accompanied-metadata",
   "metadata": {},
   "source": [
    "# 7. 添加textarea(ScrolledText)"
   ]
  },
  {
   "cell_type": "code",
   "execution_count": 75,
   "id": "manual-creator",
   "metadata": {},
   "outputs": [],
   "source": [
    "#!/usr/bin/env python3\n",
    "# -*- coding: utf-8 -*-\n",
    "\n",
    "from tkinter import *\n",
    "from tkinter.ttk import *\n",
    "from tkinter import scrolledtext\n",
    "\n",
    "window = Tk()\n",
    "window.title(\"Hello World\")\n",
    "\n",
    "window.geometry('800x600')\n",
    "\n",
    "txt = scrolledtext.ScrolledText(window, width=40, height=10)\n",
    "txt.insert(INSERT, 'Here is the default input string')\n",
    "txt.grid(column=0, row=0)\n",
    "\n",
    "def clicked():\n",
    "    txt.delete(1.0, END)\n",
    "\n",
    "btn = Button(window, text=\"Clean\", command=clicked)\n",
    "btn.grid(column=1, row=0)\n",
    "\n",
    "window.mainloop()"
   ]
  },
  {
   "cell_type": "markdown",
   "id": "lesbian-alberta",
   "metadata": {},
   "source": [
    "* scrolledtext.ScrolledText 对象的insert方法可以插入默认字符串\n",
    "* scrolledtext.ScrolledText 对象的delete方法可以删除字符串。"
   ]
  },
  {
   "cell_type": "markdown",
   "id": "hearing-paste",
   "metadata": {},
   "source": [
    "# 8. 添加消息框"
   ]
  },
  {
   "cell_type": "code",
   "execution_count": 85,
   "id": "willing-belle",
   "metadata": {},
   "outputs": [
    {
     "name": "stdout",
     "output_type": "stream",
     "text": [
      "True\n",
      "False\n",
      "False\n",
      "True\n",
      "False\n",
      "None\n"
     ]
    }
   ],
   "source": [
    "#!/usr/bin/env python3\n",
    "# -*- coding: utf-8 -*-\n",
    "\n",
    "from tkinter import *\n",
    "from tkinter.ttk import *\n",
    "from tkinter import scrolledtext\n",
    "from tkinter import messagebox\n",
    "\n",
    "window = Tk()\n",
    "window.title(\"Hello World\")\n",
    "\n",
    "window.geometry('800x600')\n",
    "\n",
    "def clicked1():\n",
    "    messagebox.showinfo('Message title', 'Message Info')\n",
    "    \n",
    "def clicked2():\n",
    "    messagebox.showwarning('Message title', 'Message Warning')\n",
    "    \n",
    "def clicked3():\n",
    "    messagebox.showerror('Message title', 'Message Error')\n",
    "    \n",
    "def clicked4():\n",
    "    res = messagebox.askquestion('Message title', 'Question')\n",
    "    print(res)\n",
    "    \n",
    "def clicked5():\n",
    "    res = messagebox.askyesno('Message title', 'Yes or No')\n",
    "    print(res)\n",
    "    \n",
    "def clicked6():\n",
    "    res = messagebox.askyesnocancel('Message title', 'Yes No or Cancel')\n",
    "    print(res)\n",
    "    \n",
    "def clicked7():\n",
    "    res = messagebox.askokcancel('Message title', 'Ok or Cancel')\n",
    "    print(res)\n",
    "    \n",
    "def clicked8():\n",
    "    res = messagebox.askretrycancel('Message title', 'Retry or Cancel')\n",
    "    print(res)\n",
    "\n",
    "btn1 = Button(window, text=\"Info MessageBox\", command=clicked1)\n",
    "btn1.grid(column=0, row=0)\n",
    "\n",
    "btn2 = Button(window, text=\"Warning MessageBox\", command=clicked2)\n",
    "btn2.grid(column=1, row=0)\n",
    "\n",
    "btn3 = Button(window, text=\"Error MessageBox\", command=clicked3)\n",
    "btn3.grid(column=2, row=0)\n",
    "\n",
    "btn4 = Button(window, text=\"Ask Question\", command=clicked4)\n",
    "btn4.grid(column=0, row=1)\n",
    "\n",
    "btn5 = Button(window, text=\"Ask YesNo\", command=clicked5)\n",
    "btn5.grid(column=1, row=1)\n",
    "\n",
    "btn6 = Button(window, text=\"Ask YesNoCancel\", command=clicked6)\n",
    "btn6.grid(column=2, row=1)\n",
    "\n",
    "btn7 = Button(window, text=\"Ask OkCancel\", command=clicked7)\n",
    "btn7.grid(column=3, row=1)\n",
    "\n",
    "btn8 = Button(window, text=\"Ask RetryCancel\", command=clicked8)\n",
    "btn8.grid(column=4, row=1)\n",
    "\n",
    "window.mainloop()"
   ]
  },
  {
   "cell_type": "markdown",
   "id": "appreciated-sodium",
   "metadata": {},
   "source": [
    "# 9. 添加SpinBox数字小部件"
   ]
  },
  {
   "cell_type": "code",
   "execution_count": 90,
   "id": "atlantic-compilation",
   "metadata": {},
   "outputs": [],
   "source": [
    "#!/usr/bin/env python3\n",
    "# -*- coding: utf-8 -*-\n",
    "\n",
    "from tkinter import *\n",
    "\n",
    "window = Tk()\n",
    "window.title(\"Hello World\")\n",
    "\n",
    "window.geometry('800x600')\n",
    "\n",
    "var = IntVar()\n",
    "var.set(36)\n",
    "spin1 = Spinbox(window, from_=0, to=100, width=5, textvariable=var)\n",
    "spin1.grid(column=0, row=0)\n",
    "\n",
    "spin2 = Spinbox(window, values=(3, 8, 11), width=5)\n",
    "spin2.grid(column=1, row=0)\n",
    "\n",
    "def clicked():\n",
    "    print(spin1.get())\n",
    "    print(spin2.get())\n",
    "\n",
    "btn = Button(window, text=\"Get Value\", command=clicked)\n",
    "btn.grid(column=2, row=0)\n",
    "\n",
    "window.mainloop()"
   ]
  },
  {
   "cell_type": "markdown",
   "id": "blond-trade",
   "metadata": {},
   "source": [
    "* 可通过设置Spinbox的参数textvariable为默认设定值"
   ]
  },
  {
   "cell_type": "markdown",
   "id": "according-wrist",
   "metadata": {},
   "source": [
    "# 10. 添加进度条Progressbar"
   ]
  },
  {
   "cell_type": "code",
   "execution_count": 117,
   "id": "ruled-killing",
   "metadata": {},
   "outputs": [],
   "source": [
    "#!/usr/bin/env python3\n",
    "# -*- coding: utf-8 -*-\n",
    "\n",
    "from tkinter import *\n",
    "from tkinter import ttk\n",
    "\n",
    "window = Tk()\n",
    "window.title(\"Hello World\")\n",
    "\n",
    "window.geometry('800x600')\n",
    "\n",
    "#style = ttk.Style()\n",
    "#style.theme_use('default')\n",
    "#style.configure(\"black.Horizontal.TProgressbar\", background='black')\n",
    "\n",
    "progress_value = 0\n",
    "\n",
    "bar = Progressbar(window, length=200, style='black.Horizontal.TProgressbar')\n",
    "bar['value'] = progress_value\n",
    "bar.grid(column=0, row=0)\n",
    "\n",
    "def clicked():\n",
    "    global progress_value\n",
    "    progress_value = progress_value + 2\n",
    "    bar['value'] = progress_value\n",
    "\n",
    "btn = Button(window, text=\"Add Progress\", command=clicked)\n",
    "btn.grid(column=2, row=0)\n",
    "\n",
    "window.mainloop()"
   ]
  },
  {
   "cell_type": "markdown",
   "id": "electric-vermont",
   "metadata": {},
   "source": [
    "# 11. 添加文件对话框"
   ]
  },
  {
   "cell_type": "code",
   "execution_count": null,
   "id": "needed-sequence",
   "metadata": {},
   "outputs": [],
   "source": [
    "#!/usr/bin/env python3\n",
    "# -*- coding: utf-8 -*-\n",
    "\n",
    "from tkinter import filedialog\n",
    "\n",
    "# file = filedialog.askopenfilename()\n",
    "\n",
    "#files = filedialog.askopenfilenames() # 添加多个文件\n",
    "\n",
    "# file = filedialog.askopenfilename(filetypes = (('Text files', '*.txt'), ('all files', '*'))) # 指定文件类型\n",
    "\n",
    "# dir = filedialog.askdirectory() # 获取路径\n",
    "\n",
    "# file = filedialog.askopenfilename(initialdir=path.dirname(__file__)) # 初始路径"
   ]
  },
  {
   "cell_type": "markdown",
   "id": "equal-deposit",
   "metadata": {},
   "source": [
    "# 12. 增加菜单栏Menu"
   ]
  },
  {
   "cell_type": "code",
   "execution_count": 125,
   "id": "contained-interaction",
   "metadata": {},
   "outputs": [
    {
     "name": "stdout",
     "output_type": "stream",
     "text": [
      "New has been clicked\n"
     ]
    }
   ],
   "source": [
    "#!/usr/bin/env python3\n",
    "# -*- coding: utf-8 -*-\n",
    "\n",
    "from tkinter import *\n",
    "from tkinter import Menu\n",
    "\n",
    "window = Tk()\n",
    "window.title(\"Hello World\")\n",
    "\n",
    "window.geometry('800x600')\n",
    "\n",
    "def clicked():\n",
    "    print(\"New has been clicked\")\n",
    "\n",
    "menu = Menu(window)\n",
    "new_item = Menu(menu) #, tearoff=0) 去掉虚线\n",
    "new_item.add_command(label='New', command=clicked)\n",
    "new_item.add_separator()\n",
    "new_item.add_command(label='Edit')\n",
    "\n",
    "menu.add_cascade(label='File', menu=new_item)\n",
    "\n",
    "window.config(menu=menu)\n",
    "\n",
    "window.mainloop()"
   ]
  },
  {
   "cell_type": "markdown",
   "id": "ecological-ferry",
   "metadata": {},
   "source": [
    "# 13. 增加Notebook部件"
   ]
  },
  {
   "cell_type": "code",
   "execution_count": 131,
   "id": "stuck-storm",
   "metadata": {},
   "outputs": [],
   "source": [
    "#!/usr/bin/env python3\n",
    "# -*- coding: utf-8 -*-\n",
    "\n",
    "from tkinter import *\n",
    "from tkinter import ttk\n",
    "\n",
    "window = Tk()\n",
    "window.title(\"Hello World\")\n",
    "\n",
    "window.geometry('800x600')\n",
    "\n",
    "tab_control = ttk.Notebook(window)\n",
    "\n",
    "tab1 = ttk.Frame(tab_control)\n",
    "tab_control.add(tab1, text='First')\n",
    "\n",
    "tab2 = ttk.Frame(tab_control)\n",
    "tab_control.add(tab2, text='Second')\n",
    "\n",
    "lb1 = Label(tab1, text='label1', padx=50, pady=50)\n",
    "lb1.grid(column=0, row=0)\n",
    "\n",
    "lb2 = Label(tab2, text='label2')\n",
    "lb2.grid(column=0, row=0)\n",
    "\n",
    "tab_control.pack(expand=1, fill='both') # 打包选项卡控件，使其在窗口中可见\n",
    "\n",
    "window.mainloop()"
   ]
  },
  {
   "cell_type": "code",
   "execution_count": null,
   "id": "collective-discharge",
   "metadata": {},
   "outputs": [],
   "source": []
  }
 ],
 "metadata": {
  "kernelspec": {
   "display_name": "Python 3",
   "language": "python",
   "name": "python3"
  },
  "language_info": {
   "codemirror_mode": {
    "name": "ipython",
    "version": 3
   },
   "file_extension": ".py",
   "mimetype": "text/x-python",
   "name": "python",
   "nbconvert_exporter": "python",
   "pygments_lexer": "ipython3",
   "version": "3.7.9"
  }
 },
 "nbformat": 4,
 "nbformat_minor": 5
}
