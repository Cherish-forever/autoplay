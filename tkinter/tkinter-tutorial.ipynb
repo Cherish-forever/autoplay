{
 "cells": [
  {
   "cell_type": "markdown",
   "id": "expensive-unemployment",
   "metadata": {},
   "source": [
    "# 1. 创建第一个app"
   ]
  },
  {
   "cell_type": "code",
   "execution_count": 8,
   "id": "worldwide-stream",
   "metadata": {},
   "outputs": [],
   "source": [
    "#!/usr/bin/env python3\n",
    "# -*- coding: utf-8 -*-\n",
    "\n",
    "from tkinter import *\n",
    "\n",
    "window = Tk()\n",
    "window.title(\"Hello World\")\n",
    "window.mainloop()"
   ]
  },
  {
   "cell_type": "markdown",
   "id": "presidential-pound",
   "metadata": {},
   "source": [
    "# 2. 创建标签小部件"
   ]
  },
  {
   "cell_type": "code",
   "execution_count": 20,
   "id": "accurate-enzyme",
   "metadata": {},
   "outputs": [],
   "source": [
    "#!/usr/bin/env python3\n",
    "# -*- coding: utf-8 -*-\n",
    "\n",
    "from tkinter import *\n",
    "\n",
    "window = Tk()\n",
    "window.title(\"Hello World\")\n",
    "\n",
    "lb1 = Label(window, text=\"Hello\", font=(\"Arial Bold\", 50))\n",
    "lb1.grid(column=0, row=0)\n",
    "\n",
    "window.geometry('800x600')\n",
    "\n",
    "def clicked():\n",
    "    lb1.configure(text=\"Button was clicked !!\")\n",
    "\n",
    "btn = Button(window, text=\"Click Me\", bg=\"orange\", fg=\"red\", command=clicked)\n",
    "btn.grid(column=1, row=0)\n",
    "\n",
    "window.mainloop()"
   ]
  },
  {
   "cell_type": "markdown",
   "id": "reported-productivity",
   "metadata": {},
   "source": [
    "* Label 可通过font参数设置字体样式及大小，可以将font参数传递给任何窗口小部件以更改其字体。\n",
    "* 可通过window.geometry来设置默认窗口大小。\n",
    "* 使用Button方法创建按钮对象，可通过传参bg设置背景色，fg设置前景色。\n",
    "* Button对象可通过command传参来绑定Callback。"
   ]
  },
  {
   "cell_type": "markdown",
   "id": "empirical-process",
   "metadata": {},
   "source": [
    "# 3. 文本框(Entry class)"
   ]
  },
  {
   "cell_type": "code",
   "execution_count": 26,
   "id": "subsequent-kidney",
   "metadata": {},
   "outputs": [],
   "source": [
    "#!/usr/bin/env python3\n",
    "# -*- coding: utf-8 -*-\n",
    "\n",
    "from tkinter import *\n",
    "\n",
    "window = Tk()\n",
    "window.title(\"Hello World\")\n",
    "\n",
    "lb1 = Label(window, text=\"Hello\", font=(\"Arial Bold\", 50))\n",
    "lb1.grid(column=0, row=0)\n",
    "\n",
    "window.geometry('800x600')\n",
    "\n",
    "txt = Entry(window, width=10) #,state='disable')\n",
    "txt.grid(column=1, row=0)\n",
    "txt.focus()\n",
    "\n",
    "def clicked():\n",
    "    res = \"Welcome to \" + txt.get()\n",
    "    lb1.configure(text=res)\n",
    "\n",
    "btn = Button(window, text=\"Click Me\", bg=\"orange\", fg=\"red\", command=clicked)\n",
    "btn.grid(column=2, row=0)\n",
    "\n",
    "window.mainloop()"
   ]
  },
  {
   "cell_type": "markdown",
   "id": "spanish-single",
   "metadata": {},
   "source": [
    "* 各个小组件之间是可以相互覆盖的，所以column和row不能同时相等。\n",
    "* txt的focus方法可以使窗口在打开后聚焦在输入框。\n",
    "* 可通过Entry的传参state来指示当前窗口是否为输入状态，默认是。\n"
   ]
  },
  {
   "cell_type": "markdown",
   "id": "recovered-camera",
   "metadata": {},
   "source": [
    "# 4. 组合框小组件(Combobox)"
   ]
  },
  {
   "cell_type": "code",
   "execution_count": 42,
   "id": "olive-signal",
   "metadata": {},
   "outputs": [],
   "source": [
    "#!/usr/bin/env python3\n",
    "# -*- coding: utf-8 -*-\n",
    "\n",
    "from tkinter import *\n",
    "from tkinter.ttk import *\n",
    "\n",
    "window = Tk()\n",
    "window.title(\"Hello World\")\n",
    "\n",
    "lb1 = Label(window, text=\"Hello\", font=(\"Arial Bold\", 50))\n",
    "lb1.grid(column=0, row=0)\n",
    "\n",
    "window.geometry('800x600')\n",
    "\n",
    "combo = Combobox(window)\n",
    "combo['value'] = (1, 2, 3, 4, 5, \"Text\")\n",
    "combo.current(1)\n",
    "combo.grid(column=1, row=0)\n",
    "\n",
    "def clicked():\n",
    "    res = \"Welcome to \" + combo.get()\n",
    "    lb1.configure(text=res)\n",
    "\n",
    "btn = Button(window, text=\"Click Me\", command=clicked)\n",
    "btn.grid(column=2, row=0)\n",
    "\n",
    "window.mainloop()"
   ]
  },
  {
   "cell_type": "markdown",
   "id": "further-spectacular",
   "metadata": {},
   "source": [
    "* 可通过Combobox对象的get()方法来获取当前选择的数值"
   ]
  },
  {
   "cell_type": "markdown",
   "id": "earlier-antigua",
   "metadata": {},
   "source": [
    "# 5. 复选框 (checkbox)"
   ]
  },
  {
   "cell_type": "code",
   "execution_count": 50,
   "id": "future-applicant",
   "metadata": {},
   "outputs": [],
   "source": [
    "#!/usr/bin/env python3\n",
    "# -*- coding: utf-8 -*-\n",
    "\n",
    "from tkinter import *\n",
    "from tkinter.ttk import *\n",
    "\n",
    "window = Tk()\n",
    "window.title(\"Hello World\")\n",
    "\n",
    "lb1 = Label(window, text=\"Hello\", font=(\"Arial Bold\", 50))\n",
    "lb1.grid(column=0, row=0)\n",
    "\n",
    "window.geometry('800x600')\n",
    "\n",
    "chk_state = BooleanVar()\n",
    "chk_state.set(True)\n",
    "chk = Checkbutton(window, text='Choose', var=chk_state)\n",
    "chk.grid(column=1, row=0)\n",
    "\n",
    "def clicked():\n",
    "    res = \"Welcome to \" + str(chk_state.get())\n",
    "    lb1.configure(text=res)\n",
    "\n",
    "btn = Button(window, text=\"Click Me\", command=clicked)\n",
    "btn.grid(column=2, row=0)\n",
    "\n",
    "window.mainloop()"
   ]
  },
  {
   "cell_type": "markdown",
   "id": "julian-korean",
   "metadata": {},
   "source": [
    "注意：BooleanVar类型不是Python变量，而是Tkinter变量。"
   ]
  },
  {
   "cell_type": "markdown",
   "id": "prescription-robert",
   "metadata": {},
   "source": [
    "# 6. 单选按钮(RadioButton)"
   ]
  },
  {
   "cell_type": "code",
   "execution_count": 57,
   "id": "prepared-alarm",
   "metadata": {},
   "outputs": [
    {
     "name": "stdout",
     "output_type": "stream",
     "text": [
      "1\n",
      "2\n",
      "3\n"
     ]
    }
   ],
   "source": [
    "#!/usr/bin/env python3\n",
    "# -*- coding: utf-8 -*-\n",
    "\n",
    "from tkinter import *\n",
    "from tkinter.ttk import *\n",
    "\n",
    "window = Tk()\n",
    "window.title(\"Hello World\")\n",
    "\n",
    "window.geometry('800x600')\n",
    "\n",
    "selected = IntVar()\n",
    "\n",
    "def clicked():\n",
    "    print(selected.get())\n",
    "\n",
    "rad1 = Radiobutton(window, text='First', value=1, command=clicked, variable=selected)\n",
    "rad2 = Radiobutton(window, text='Second', value=2, command=clicked, variable=selected)\n",
    "rad3 = Radiobutton(window, text='Third', value=3, command=clicked, variable=selected)\n",
    "rad1.grid(column=0, row=0)\n",
    "rad2.grid(column=1, row=0)\n",
    "rad3.grid(column=2, row=0)\n",
    "\n",
    "window.mainloop()"
   ]
  },
  {
   "cell_type": "markdown",
   "id": "alert-bolivia",
   "metadata": {},
   "source": [
    "# 7. 添加textarea(ScrolledText)"
   ]
  },
  {
   "cell_type": "code",
   "execution_count": 61,
   "id": "working-foundation",
   "metadata": {},
   "outputs": [],
   "source": [
    "#!/usr/bin/env python3\n",
    "# -*- coding: utf-8 -*-\n",
    "\n",
    "from tkinter import *\n",
    "from tkinter.ttk import *\n",
    "from tkinter import scrolledtext\n",
    "\n",
    "window = Tk()\n",
    "window.title(\"Hello World\")\n",
    "\n",
    "window.geometry('800x600')\n",
    "\n",
    "txt = scrolledtext.ScrolledText(window, width=40, height=10)\n",
    "txt.grid(column=0, row=0)\n",
    "\n",
    "window.mainloop()"
   ]
  },
  {
   "cell_type": "code",
   "execution_count": null,
   "id": "assumed-monaco",
   "metadata": {},
   "outputs": [],
   "source": []
  }
 ],
 "metadata": {
  "kernelspec": {
   "display_name": "Python 3",
   "language": "python",
   "name": "python3"
  },
  "language_info": {
   "codemirror_mode": {
    "name": "ipython",
    "version": 3
   },
   "file_extension": ".py",
   "mimetype": "text/x-python",
   "name": "python",
   "nbconvert_exporter": "python",
   "pygments_lexer": "ipython3",
   "version": "3.7.9"
  }
 },
 "nbformat": 4,
 "nbformat_minor": 5
}
